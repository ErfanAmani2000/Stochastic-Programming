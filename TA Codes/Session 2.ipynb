{
 "cells": [
  {
   "cell_type": "markdown",
   "metadata": {},
   "source": [
    "## <b> <span style='color:#2ae4f5'>|</span> Table of Contents </b>\n",
    "\n",
    "* [Python Basics](#1)\n",
    "\n",
    "   * [List](#2)\n",
    "\n",
    "   * [Tuple](#3)\n",
    "   \n",
    "   * [Dictionary](#4)\n",
    "\n",
    "   * [Loops](#5)\n",
    "\n",
    "   * [Conditions](#6)\n",
    "   \n",
    "   * [Functions](#7)\n"
   ]
  },
  {
   "cell_type": "markdown",
   "metadata": {},
   "source": [
    "# <b>1 <span style='color:#2ae4f5'>|</span> Python Basics <a id = \"1\" > </b> "
   ]
  },
  {
   "cell_type": "markdown",
   "metadata": {},
   "source": [
    "## \n",
    "<div style=\"color:white;display:fill;border-radius:8px;\n",
    "            background-color:#03112A;font-size:150%;\n",
    "            letter-spacing:1.0px;background-image: url(https://i.imgur.com/GVd0La1.png)\">\n",
    "    <p style=\"padding: 8px;color:white;\"><b><b><span style='color:#2ae4f5'>1.1 |</span></b> List <a id = \"2\" ></b></p>\n",
    "</div>"
   ]
  },
  {
   "cell_type": "code",
   "execution_count": 1,
   "metadata": {},
   "outputs": [
    {
     "name": "stdout",
     "output_type": "stream",
     "text": [
      "['a', 10, 3.14, 'T', 'Max', 2024, True]\n",
      "<class 'list'>\n",
      "a\n",
      "[10, 3.14]\n",
      "[10, 'T', 2024]\n"
     ]
    }
   ],
   "source": [
    "# You can use Slice, Range Slice and Range Slice Step in lists.\n",
    "# \"variable[start:end:step]\"\n",
    "# Indexes start at 0.\n",
    "# The stop in slices is where algorithm stops before that index.\n",
    "\n",
    "list_1 = [\"a\", 10, 3.14, \"T\", \"Max\", 2024, True]\n",
    "\n",
    "print(list_1)\n",
    "print(type(list_1))\n",
    "print(list_1[0])\n",
    "print(list_1[1:3])\n",
    "print(list_1[1:6:2])"
   ]
  },
  {
   "cell_type": "code",
   "execution_count": 2,
   "metadata": {},
   "outputs": [
    {
     "name": "stdout",
     "output_type": "stream",
     "text": [
      "['a', 10, 3.14, 'T', 'Max', 2024, True, 'USA', 'England', 'Netherlands']\n"
     ]
    }
   ],
   "source": [
    "list_2 = [\"USA\", \"England\", \"Netherlands\"]\n",
    "list_3 = list_1 + list_2\n",
    "\n",
    "print(list_3)"
   ]
  },
  {
   "cell_type": "code",
   "execution_count": 3,
   "metadata": {},
   "outputs": [
    {
     "name": "stdout",
     "output_type": "stream",
     "text": [
      "2\n",
      "[1, 2, 1, 2, 1, 2, 1, 2, 1, 2] 10\n"
     ]
    }
   ],
   "source": [
    "# You can repeat lists items in a list by the command \"*\"\n",
    "list_4 = [1, 2]\n",
    "\n",
    "print(len(list_4))\n",
    "print(list_4 * 5, len(list_4 * 5))"
   ]
  },
  {
   "cell_type": "code",
   "execution_count": 4,
   "metadata": {},
   "outputs": [
    {
     "name": "stdout",
     "output_type": "stream",
     "text": [
      "c\n",
      "####\n",
      "['a', 'b', '####', 'd', 'e']\n"
     ]
    }
   ],
   "source": [
    "# Unlike the strings that you can't assign objetcs to them, lists has the option of object assignment. It means that you can change the objects of a list.\n",
    "list_5 = [\"a\", \"b\", \"c\", \"d\", \"e\"]\n",
    "print(list_5[2])\n",
    "\n",
    "list_5[2] = \"####\"\n",
    "print(list_5[2])\n",
    "print(list_5)"
   ]
  },
  {
   "cell_type": "code",
   "execution_count": 5,
   "metadata": {},
   "outputs": [
    {
     "name": "stdout",
     "output_type": "stream",
     "text": [
      "False\n",
      "True\n"
     ]
    }
   ],
   "source": [
    "# You can check if there is a specific object in a list.\n",
    "print(\"c\" in list_5)\n",
    "print(\"d\" in list_5)"
   ]
  },
  {
   "cell_type": "code",
   "execution_count": 6,
   "metadata": {},
   "outputs": [
    {
     "name": "stdout",
     "output_type": "stream",
     "text": [
      "['1', '2', '3', '4']\n"
     ]
    }
   ],
   "source": [
    "list_6 = [\"1\", \"2\", \"3\"]\n",
    "list_6.append(\"4\")\n",
    "\n",
    "print(list_6)"
   ]
  },
  {
   "cell_type": "code",
   "execution_count": 7,
   "metadata": {},
   "outputs": [
    {
     "name": "stdout",
     "output_type": "stream",
     "text": [
      "['1', '2', '3', '4', '7', '8']\n"
     ]
    }
   ],
   "source": [
    "list_7 = [\"7\", \"8\"]\n",
    "list_6.extend(list_7)\n",
    "\n",
    "print(list_6)"
   ]
  },
  {
   "cell_type": "code",
   "execution_count": 8,
   "metadata": {},
   "outputs": [
    {
     "name": "stdout",
     "output_type": "stream",
     "text": [
      "[7, 8, 9, 10]\n",
      "[7, 8, 9]\n"
     ]
    }
   ],
   "source": [
    "list_8 = [7, 8, 9, 10]\n",
    "print(list_8)\n",
    "\n",
    "list_8.pop()\n",
    "print(list_8)"
   ]
  },
  {
   "cell_type": "code",
   "execution_count": 9,
   "metadata": {},
   "outputs": [
    {
     "name": "stdout",
     "output_type": "stream",
     "text": [
      "[7, 8, 9, 10]\n",
      "[7, 9, 10]\n"
     ]
    }
   ],
   "source": [
    "list_8 = [7, 8, 9, 10]\n",
    "print(list_8)\n",
    "\n",
    "list_8.remove(8)\n",
    "print(list_8)"
   ]
  },
  {
   "cell_type": "markdown",
   "metadata": {},
   "source": [
    "## \n",
    "<div style=\"color:white;display:fill;border-radius:8px;\n",
    "            background-color:#03112A;font-size:150%;\n",
    "            letter-spacing:1.0px;background-image: url(https://i.imgur.com/GVd0La1.png)\">\n",
    "    <p style=\"padding: 8px;color:white;\"><b><b><span style='color:#2ae4f5'>1.2 |</span></b> Tuple <a id = \"3\" ></b></p>\n",
    "</div>"
   ]
  },
  {
   "cell_type": "code",
   "execution_count": 10,
   "metadata": {},
   "outputs": [
    {
     "name": "stdout",
     "output_type": "stream",
     "text": [
      "('a', 'b', 'c')\n",
      "('a', 'b', 'c')\n",
      "<class 'tuple'>\n",
      "<class 'tuple'>\n"
     ]
    }
   ],
   "source": [
    "# Tuples are like lists, but they are immutable.\n",
    "# Immutable means that we can not change or remove an object of a tuple, but we can concatenate another tuple to that.\n",
    "# We can use methods that we used for lists, but we can not use methods that changes the list for tuples.\n",
    "# Tuples are more fast than lists.\n",
    "# For tuples we can both use \"()\" or nothing.\n",
    "# If a tuple doesn't have any arguments or just only has one argument we should add \",\" to that.\n",
    "# You can use Slice, Range Slice and Range Slice Step in tuples.\n",
    "# \"variable[start:end:step]\"\n",
    "# Indexes start at 0.\n",
    "# The stop in slices is where algorithm stops before that index.\n",
    "\n",
    "tuple_1 = \"a\",\"b\", \"c\"\n",
    "tuple_2 = (\"a\", \"b\", \"c\")\n",
    "\n",
    "print(tuple_1)\n",
    "print(tuple_2)\n",
    "\n",
    "print(type(tuple_1))\n",
    "print(type(tuple_2))"
   ]
  },
  {
   "cell_type": "code",
   "execution_count": 11,
   "metadata": {},
   "outputs": [
    {
     "name": "stdout",
     "output_type": "stream",
     "text": [
      "('a', 'b', 'c')\n",
      "('a', 'c')\n"
     ]
    }
   ],
   "source": [
    "print(tuple_1[0:])\n",
    "print(tuple_1[0::2])"
   ]
  },
  {
   "cell_type": "code",
   "execution_count": 12,
   "metadata": {},
   "outputs": [
    {
     "data": {
      "text/plain": [
       "'b'"
      ]
     },
     "execution_count": 12,
     "metadata": {},
     "output_type": "execute_result"
    }
   ],
   "source": [
    "tuple_1[-2]"
   ]
  },
  {
   "cell_type": "code",
   "execution_count": 13,
   "metadata": {},
   "outputs": [
    {
     "data": {
      "text/plain": [
       "('a', 'b', 'c', 'a', 'b', 'c')"
      ]
     },
     "execution_count": 13,
     "metadata": {},
     "output_type": "execute_result"
    }
   ],
   "source": [
    "tuple_1+tuple_2"
   ]
  },
  {
   "cell_type": "markdown",
   "metadata": {},
   "source": [
    "## \n",
    "<div style=\"color:white;display:fill;border-radius:8px;\n",
    "            background-color:#03112A;font-size:150%;\n",
    "            letter-spacing:1.0px;background-image: url(https://i.imgur.com/GVd0La1.png)\">\n",
    "    <p style=\"padding: 8px;color:white;\"><b><b><span style='color:#2ae4f5'>1.3 |</span></b> Dictionary <a id = \"4\" ></b></p>\n",
    "</div>"
   ]
  },
  {
   "cell_type": "code",
   "execution_count": 14,
   "metadata": {},
   "outputs": [
    {
     "ename": "TypeError",
     "evalue": "unhashable type: 'list'",
     "output_type": "error",
     "traceback": [
      "\u001b[1;31m---------------------------------------------------------------------------\u001b[0m",
      "\u001b[1;31mTypeError\u001b[0m                                 Traceback (most recent call last)",
      "Cell \u001b[1;32mIn[14], line 7\u001b[0m\n\u001b[0;32m      1\u001b[0m \u001b[38;5;66;03m# Dictionaries are a set of elements that have key and values.\u001b[39;00m\n\u001b[0;32m      2\u001b[0m \u001b[38;5;66;03m# Index for dictionaries has no meaning.\u001b[39;00m\n\u001b[0;32m      3\u001b[0m \u001b[38;5;66;03m# Keys should be unique and immutable like: integer, float, string, boolean, tuple\u001b[39;00m\n\u001b[0;32m      4\u001b[0m \u001b[38;5;66;03m# Values can be any kind of data.\u001b[39;00m\n\u001b[0;32m      5\u001b[0m \u001b[38;5;66;03m# By using \"[]\" we can check and change key's value. We can also add another key and value to a dictionary.\u001b[39;00m\n\u001b[1;32m----> 7\u001b[0m dict1 \u001b[38;5;241m=\u001b[39m {[\u001b[38;5;124m\"\u001b[39m\u001b[38;5;124mName\u001b[39m\u001b[38;5;124m\"\u001b[39m,] : \u001b[38;5;124m\"\u001b[39m\u001b[38;5;124mSara\u001b[39m\u001b[38;5;124m\"\u001b[39m, \u001b[38;5;124m\"\u001b[39m\u001b[38;5;124mFamily Name\u001b[39m\u001b[38;5;124m\"\u001b[39m : \u001b[38;5;124m\"\u001b[39m\u001b[38;5;124mAhmadi\u001b[39m\u001b[38;5;124m\"\u001b[39m}\n\u001b[0;32m      9\u001b[0m \u001b[38;5;28mprint\u001b[39m(dict1)\n",
      "\u001b[1;31mTypeError\u001b[0m: unhashable type: 'list'"
     ]
    }
   ],
   "source": [
    "# Dictionaries are a set of elements that have key and values.\n",
    "# Index for dictionaries has no meaning.\n",
    "# Keys should be unique and immutable like: integer, float, string, boolean, tuple\n",
    "# Values can be any kind of data.\n",
    "# By using \"[]\" we can check and change key's value. We can also add another key and value to a dictionary.\n",
    "\n",
    "dict1 = {[\"Name\",] : \"Sara\", \"Family Name\" : \"Ahmadi\"}\n",
    "\n",
    "print(dict1)"
   ]
  },
  {
   "cell_type": "code",
   "execution_count": 15,
   "metadata": {},
   "outputs": [
    {
     "name": "stdout",
     "output_type": "stream",
     "text": [
      "{('Name',): 'Sara', 'Family Name': 'Ahmadi'}\n"
     ]
    }
   ],
   "source": [
    "dict1 = {(\"Name\",) : \"Sara\", \"Family Name\" : \"Ahmadi\"}\n",
    "\n",
    "print(dict1)"
   ]
  },
  {
   "cell_type": "code",
   "execution_count": 16,
   "metadata": {},
   "outputs": [
    {
     "name": "stdout",
     "output_type": "stream",
     "text": [
      "{'Name': 'Sara', 'Family Name': 'Ahmadi'}\n",
      "<class 'dict'>\n",
      "Sara\n",
      "{'Name': 'Navid', 'Family Name': 'Ahmadi', 'Location': 'Valiasr'}\n"
     ]
    }
   ],
   "source": [
    "dict1 = {\"Name\" : \"Sara\", \"Family Name\" : \"Ahmadi\"}\n",
    "\n",
    "print(dict1)\n",
    "print(type(dict1))\n",
    "print(dict1[\"Name\"])\n",
    "\n",
    "dict1[\"Name\"] = \"Navid\"\n",
    "dict1[\"Location\"] = \"Valiasr\"\n",
    "\n",
    "print(dict1)"
   ]
  },
  {
   "cell_type": "code",
   "execution_count": 17,
   "metadata": {},
   "outputs": [
    {
     "name": "stdout",
     "output_type": "stream",
     "text": [
      "{'Country': 'Iran', 'City': 'Tehran', 'Street': 'Valiasr', 'Block': '2'}\n"
     ]
    }
   ],
   "source": [
    "# By \".update()\" method, we can add a key and its value to a dictionary.\n",
    "dict2 = {\"Country\" : \"Iran\", \"City\" : \"Tehran\", \"Street\" : \"Valiasr\"}\n",
    "dict2.update({\"Block\" : \"2\"})\n",
    "\n",
    "print(dict2)"
   ]
  },
  {
   "cell_type": "code",
   "execution_count": 18,
   "metadata": {},
   "outputs": [
    {
     "name": "stdout",
     "output_type": "stream",
     "text": [
      "dict_values(['Iran', 'Tehran', 'Valiasr', '2'])\n",
      "dict_keys(['Country', 'City', 'Street', 'Block'])\n"
     ]
    }
   ],
   "source": [
    "# Creating a list of dictionary's values:\n",
    "lst_values = dict2.values()\n",
    "\n",
    "print(lst_values)\n",
    "\n",
    "# Creating a list of dictionarie's keys:\n",
    "\n",
    "lst_keys = dict2.keys()\n",
    "\n",
    "print(lst_keys)"
   ]
  },
  {
   "cell_type": "code",
   "execution_count": 19,
   "metadata": {},
   "outputs": [
    {
     "name": "stdout",
     "output_type": "stream",
     "text": [
      "dict_items([('Country', 'Iran'), ('City', 'Tehran'), ('Street', 'Valiasr'), ('Block', '2')])\n"
     ]
    }
   ],
   "source": [
    "# Creating a list of dictionary's (key,values) pairs\n",
    "lst_key_values = dict2.items()\n",
    "\n",
    "print(lst_key_values)"
   ]
  },
  {
   "cell_type": "code",
   "execution_count": 20,
   "metadata": {},
   "outputs": [
    {
     "name": "stdout",
     "output_type": "stream",
     "text": [
      "{'Country': 'Iran', 'City': 'Tehran', 'Block': '2'}\n"
     ]
    }
   ],
   "source": [
    "del dict2['Street']\n",
    "\n",
    "print(dict2)"
   ]
  },
  {
   "cell_type": "markdown",
   "metadata": {},
   "source": [
    "## \n",
    "<div style=\"color:white;display:fill;border-radius:8px;\n",
    "            background-color:#03112A;font-size:150%;\n",
    "            letter-spacing:1.0px;background-image: url(https://i.imgur.com/GVd0La1.png)\">\n",
    "    <p style=\"padding: 8px;color:white;\"><b><b><span style='color:#2ae4f5'>1.4 |</span></b> Loops <a id = \"5\" ></b></p>\n",
    "</div>"
   ]
  },
  {
   "cell_type": "code",
   "execution_count": 21,
   "metadata": {},
   "outputs": [
    {
     "name": "stdout",
     "output_type": "stream",
     "text": [
      "2\n",
      "4\n",
      "6\n",
      "8\n",
      "10\n"
     ]
    }
   ],
   "source": [
    "# While Loop\n",
    "\n",
    "y = 2\n",
    "\n",
    "while y < 11:\n",
    "    print(y)\n",
    "    y += 2"
   ]
  },
  {
   "cell_type": "code",
   "execution_count": 22,
   "metadata": {},
   "outputs": [
    {
     "name": "stdout",
     "output_type": "stream",
     "text": [
      "A\n",
      "B\n",
      "C\n",
      "D\n"
     ]
    }
   ],
   "source": [
    "# for Loop (List)\n",
    "\n",
    "list_1 = [\"A\", \"B\", \"C\", \"D\"]\n",
    "\n",
    "for i in list_1:\n",
    "    print(i)"
   ]
  },
  {
   "cell_type": "code",
   "execution_count": 23,
   "metadata": {},
   "outputs": [
    {
     "name": "stdout",
     "output_type": "stream",
     "text": [
      "0 A\n",
      "1 B\n",
      "2 C\n",
      "3 D\n"
     ]
    }
   ],
   "source": [
    "# for Loop (range())\n",
    "for i in range(len(list_1)):\n",
    "    print(i, list_1[i])"
   ]
  },
  {
   "cell_type": "code",
   "execution_count": 24,
   "metadata": {},
   "outputs": [
    {
     "name": "stdout",
     "output_type": "stream",
     "text": [
      "key1 1\n",
      "key2 2\n",
      "key3 3\n",
      "key4 4\n"
     ]
    }
   ],
   "source": [
    "dict_1 = {'key1': 1, 'key2': 2, 'key3': 3, 'key4': 4}\n",
    "\n",
    "# dict_1.items()\n",
    "for k, v in dict_1.items():\n",
    "    print(k, v)"
   ]
  },
  {
   "cell_type": "markdown",
   "metadata": {},
   "source": [
    "## \n",
    "<div style=\"color:white;display:fill;border-radius:8px;\n",
    "            background-color:#03112A;font-size:150%;\n",
    "            letter-spacing:1.0px;background-image: url(https://i.imgur.com/GVd0La1.png)\">\n",
    "    <p style=\"padding: 8px;color:white;\"><b><b><span style='color:#2ae4f5'>1.5 |</span></b> Conditions <a id = \"6\" ></b></p>\n",
    "</div>"
   ]
  },
  {
   "cell_type": "code",
   "execution_count": 25,
   "metadata": {},
   "outputs": [
    {
     "name": "stdout",
     "output_type": "stream",
     "text": [
      "Number is less than 9.\n"
     ]
    }
   ],
   "source": [
    "x = 8\n",
    "\n",
    "if x > 9:\n",
    "    print(\"Number is greater than 9.\")\n",
    "elif x == 9:\n",
    "    print(\"Number is 9.\")\n",
    "else:\n",
    "    print(\"Number is less than 9.\")\n"
   ]
  },
  {
   "cell_type": "markdown",
   "metadata": {},
   "source": [
    "## \n",
    "<div style=\"color:white;display:fill;border-radius:8px;\n",
    "            background-color:#03112A;font-size:150%;\n",
    "            letter-spacing:1.0px;background-image: url(https://i.imgur.com/GVd0La1.png)\">\n",
    "    <p style=\"padding: 8px;color:white;\"><b><b><span style='color:#2ae4f5'>1.6 |</span></b> Functions <a id = \"7\" ></b></p>\n",
    "</div>"
   ]
  },
  {
   "cell_type": "code",
   "execution_count": 26,
   "metadata": {},
   "outputs": [],
   "source": [
    "def summation(x, y, z):\n",
    "    sum = x + y + z\n",
    "    return sum"
   ]
  },
  {
   "cell_type": "code",
   "execution_count": 27,
   "metadata": {},
   "outputs": [],
   "source": [
    "def summation(x, y, z):\n",
    "    sum = x + y + z\n",
    "    return sum"
   ]
  },
  {
   "cell_type": "code",
   "execution_count": 28,
   "metadata": {},
   "outputs": [
    {
     "data": {
      "text/plain": [
       "12"
      ]
     },
     "execution_count": 28,
     "metadata": {},
     "output_type": "execute_result"
    }
   ],
   "source": [
    "summation(3, 4, 5)"
   ]
  }
 ],
 "metadata": {
  "kernelspec": {
   "display_name": ".venv",
   "language": "python",
   "name": "python3"
  },
  "language_info": {
   "codemirror_mode": {
    "name": "ipython",
    "version": 3
   },
   "file_extension": ".py",
   "mimetype": "text/x-python",
   "name": "python",
   "nbconvert_exporter": "python",
   "pygments_lexer": "ipython3",
   "version": "3.12.2"
  }
 },
 "nbformat": 4,
 "nbformat_minor": 2
}
