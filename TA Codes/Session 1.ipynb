{
 "cells": [
  {
   "cell_type": "markdown",
   "metadata": {},
   "source": [
    "## <b> <span style='color:#2ae4f5'>|</span> Table of Contents </b>\n",
    "\n",
    "\n",
    "* [Introduction](#1)\n",
    "\n",
    "* [Modeling in PuLP](#2)\n",
    "\n",
    "   * [Farmer Problem](#3)\n",
    "   \n",
    "   * [Financial Planning and Control](#4)\n"
   ]
  },
  {
   "cell_type": "markdown",
   "metadata": {},
   "source": [
    "# <b>1 <span style='color:#2ae4f5'>|</span> Introduction <a id = \"1\" > </b> "
   ]
  },
  {
   "cell_type": "markdown",
   "metadata": {},
   "source": [
    "PuLP is a Modeling Framework for Linear and Integer Programming Problems written in python.\n",
    "\n",
    "Interfaces with many solvers such as CLPEX, COIN, GUROBI"
   ]
  },
  {
   "cell_type": "code",
   "execution_count": 1,
   "metadata": {},
   "outputs": [
    {
     "name": "stdout",
     "output_type": "stream",
     "text": [
      "Collecting pulp\n",
      "  Downloading PuLP-2.8.0-py3-none-any.whl (17.7 MB)\n",
      "     ---------------------------------------- 0.0/17.7 MB ? eta -:--:--\n",
      "     --------------------------------------- 0.0/17.7 MB 640.0 kB/s eta 0:00:28\n",
      "     --------------------------------------- 0.0/17.7 MB 640.0 kB/s eta 0:00:28\n",
      "     --------------------------------------- 0.1/17.7 MB 409.6 kB/s eta 0:00:44\n",
      "     --------------------------------------- 0.1/17.7 MB 587.0 kB/s eta 0:00:30\n",
      "     --------------------------------------- 0.1/17.7 MB 607.9 kB/s eta 0:00:29\n",
      "      -------------------------------------- 0.2/17.7 MB 846.9 kB/s eta 0:00:21\n",
      "      -------------------------------------- 0.2/17.7 MB 846.9 kB/s eta 0:00:21\n",
      "      -------------------------------------- 0.3/17.7 MB 910.2 kB/s eta 0:00:20\n",
      "     - -------------------------------------- 0.5/17.7 MB 1.3 MB/s eta 0:00:14\n",
      "     - -------------------------------------- 0.5/17.7 MB 1.1 MB/s eta 0:00:15\n",
      "     - -------------------------------------- 0.6/17.7 MB 1.3 MB/s eta 0:00:14\n",
      "     - -------------------------------------- 0.9/17.7 MB 1.6 MB/s eta 0:00:11\n",
      "     -- ------------------------------------- 1.1/17.7 MB 1.8 MB/s eta 0:00:10\n",
      "     -- ------------------------------------- 1.2/17.7 MB 1.9 MB/s eta 0:00:09\n",
      "     --- ------------------------------------ 1.4/17.7 MB 2.0 MB/s eta 0:00:09\n",
      "     --- ------------------------------------ 1.6/17.7 MB 2.2 MB/s eta 0:00:08\n",
      "     --- ------------------------------------ 1.7/17.7 MB 2.3 MB/s eta 0:00:08\n",
      "     --- ------------------------------------ 1.8/17.7 MB 2.2 MB/s eta 0:00:08\n",
      "     ---- ----------------------------------- 2.0/17.7 MB 2.3 MB/s eta 0:00:07\n",
      "     ---- ----------------------------------- 2.2/17.7 MB 2.4 MB/s eta 0:00:07\n",
      "     ----- ---------------------------------- 2.5/17.7 MB 2.6 MB/s eta 0:00:06\n",
      "     ------ --------------------------------- 2.7/17.7 MB 2.7 MB/s eta 0:00:06\n",
      "     ------ --------------------------------- 2.9/17.7 MB 2.8 MB/s eta 0:00:06\n",
      "     ------ --------------------------------- 3.1/17.7 MB 2.8 MB/s eta 0:00:06\n",
      "     ------- -------------------------------- 3.3/17.7 MB 2.9 MB/s eta 0:00:06\n",
      "     ------- -------------------------------- 3.5/17.7 MB 2.9 MB/s eta 0:00:05\n",
      "     -------- ------------------------------- 3.7/17.7 MB 3.0 MB/s eta 0:00:05\n",
      "     -------- ------------------------------- 3.8/17.7 MB 3.0 MB/s eta 0:00:05\n",
      "     --------- ------------------------------ 4.0/17.7 MB 3.0 MB/s eta 0:00:05\n",
      "     --------- ------------------------------ 4.1/17.7 MB 3.0 MB/s eta 0:00:05\n",
      "     --------- ------------------------------ 4.2/17.7 MB 2.9 MB/s eta 0:00:05\n",
      "     --------- ------------------------------ 4.3/17.7 MB 3.0 MB/s eta 0:00:05\n",
      "     ---------- ----------------------------- 4.4/17.7 MB 3.0 MB/s eta 0:00:05\n",
      "     ---------- ----------------------------- 4.7/17.7 MB 3.0 MB/s eta 0:00:05\n",
      "     ---------- ----------------------------- 4.8/17.7 MB 3.0 MB/s eta 0:00:05\n",
      "     ----------- ---------------------------- 5.0/17.7 MB 3.0 MB/s eta 0:00:05\n",
      "     ----------- ---------------------------- 5.1/17.7 MB 3.0 MB/s eta 0:00:05\n",
      "     ------------ --------------------------- 5.4/17.7 MB 3.1 MB/s eta 0:00:05\n",
      "     ------------ --------------------------- 5.6/17.7 MB 3.1 MB/s eta 0:00:04\n",
      "     ------------- -------------------------- 5.8/17.7 MB 3.1 MB/s eta 0:00:04\n",
      "     ------------- -------------------------- 5.9/17.7 MB 3.1 MB/s eta 0:00:04\n",
      "     ------------- -------------------------- 6.2/17.7 MB 3.2 MB/s eta 0:00:04\n",
      "     -------------- ------------------------- 6.3/17.7 MB 3.2 MB/s eta 0:00:04\n",
      "     -------------- ------------------------- 6.5/17.7 MB 3.2 MB/s eta 0:00:04\n",
      "     --------------- ------------------------ 6.7/17.7 MB 3.2 MB/s eta 0:00:04\n",
      "     --------------- ------------------------ 6.8/17.7 MB 3.2 MB/s eta 0:00:04\n",
      "     --------------- ------------------------ 7.0/17.7 MB 3.2 MB/s eta 0:00:04\n",
      "     --------------- ------------------------ 7.0/17.7 MB 3.2 MB/s eta 0:00:04\n",
      "     --------------- ------------------------ 7.0/17.7 MB 3.2 MB/s eta 0:00:04\n",
      "     --------------- ------------------------ 7.0/17.7 MB 3.2 MB/s eta 0:00:04\n",
      "     --------------- ------------------------ 7.0/17.7 MB 3.2 MB/s eta 0:00:04\n",
      "     --------------- ------------------------ 7.0/17.7 MB 3.2 MB/s eta 0:00:04\n",
      "     --------------- ------------------------ 7.0/17.7 MB 3.2 MB/s eta 0:00:04\n",
      "     --------------- ------------------------ 7.0/17.7 MB 3.2 MB/s eta 0:00:04\n",
      "     --------------- ------------------------ 7.0/17.7 MB 3.2 MB/s eta 0:00:04\n",
      "     --------------- ------------------------ 7.0/17.7 MB 3.2 MB/s eta 0:00:04\n",
      "     --------------- ------------------------ 7.0/17.7 MB 3.2 MB/s eta 0:00:04\n",
      "     --------------- ------------------------ 7.0/17.7 MB 3.2 MB/s eta 0:00:04\n",
      "     --------------- ------------------------ 7.0/17.7 MB 3.2 MB/s eta 0:00:04\n",
      "     --------------- ------------------------ 7.0/17.7 MB 3.2 MB/s eta 0:00:04\n",
      "     ---------------- ----------------------- 7.2/17.7 MB 2.5 MB/s eta 0:00:05\n",
      "     ---------------- ----------------------- 7.4/17.7 MB 2.6 MB/s eta 0:00:04\n",
      "     ----------------- ---------------------- 7.6/17.7 MB 2.6 MB/s eta 0:00:04\n",
      "     ----------------- ---------------------- 7.8/17.7 MB 2.6 MB/s eta 0:00:04\n",
      "     ------------------ --------------------- 8.1/17.7 MB 2.7 MB/s eta 0:00:04\n",
      "     ------------------ --------------------- 8.3/17.7 MB 2.7 MB/s eta 0:00:04\n",
      "     ------------------- -------------------- 8.5/17.7 MB 2.7 MB/s eta 0:00:04\n",
      "     ------------------- -------------------- 8.8/17.7 MB 2.8 MB/s eta 0:00:04\n",
      "     -------------------- ------------------- 8.9/17.7 MB 2.8 MB/s eta 0:00:04\n",
      "     -------------------- ------------------- 9.2/17.7 MB 2.8 MB/s eta 0:00:03\n",
      "     --------------------- ------------------ 9.5/17.7 MB 2.9 MB/s eta 0:00:03\n",
      "     --------------------- ------------------ 9.7/17.7 MB 2.9 MB/s eta 0:00:03\n",
      "     ---------------------- ----------------- 10.0/17.7 MB 2.9 MB/s eta 0:00:03\n",
      "     ----------------------- ---------------- 10.2/17.7 MB 3.0 MB/s eta 0:00:03\n",
      "     ----------------------- ---------------- 10.4/17.7 MB 3.2 MB/s eta 0:00:03\n",
      "     ------------------------ --------------- 10.6/17.7 MB 3.3 MB/s eta 0:00:03\n",
      "     ------------------------ --------------- 10.9/17.7 MB 3.3 MB/s eta 0:00:03\n",
      "     ------------------------- -------------- 11.1/17.7 MB 3.4 MB/s eta 0:00:02\n",
      "     ------------------------- -------------- 11.3/17.7 MB 3.4 MB/s eta 0:00:02\n",
      "     -------------------------- ------------- 11.6/17.7 MB 3.4 MB/s eta 0:00:02\n",
      "     -------------------------- ------------- 11.8/17.7 MB 3.4 MB/s eta 0:00:02\n",
      "     --------------------------- ------------ 12.0/17.7 MB 3.4 MB/s eta 0:00:02\n",
      "     --------------------------- ------------ 12.3/17.7 MB 3.4 MB/s eta 0:00:02\n",
      "     ---------------------------- ----------- 12.5/17.7 MB 3.5 MB/s eta 0:00:02\n",
      "     ---------------------------- ----------- 12.8/17.7 MB 3.4 MB/s eta 0:00:02\n",
      "     ----------------------------- ---------- 13.0/17.7 MB 3.4 MB/s eta 0:00:02\n",
      "     ----------------------------- ---------- 13.3/17.7 MB 3.5 MB/s eta 0:00:02\n",
      "     ------------------------------ --------- 13.4/17.7 MB 3.5 MB/s eta 0:00:02\n",
      "     ------------------------------ --------- 13.6/17.7 MB 3.5 MB/s eta 0:00:02\n",
      "     ------------------------------- -------- 13.9/17.7 MB 3.5 MB/s eta 0:00:02\n",
      "     ------------------------------- -------- 14.1/17.7 MB 3.5 MB/s eta 0:00:02\n",
      "     -------------------------------- ------- 14.4/17.7 MB 3.6 MB/s eta 0:00:01\n",
      "     -------------------------------- ------- 14.6/17.7 MB 3.6 MB/s eta 0:00:01\n",
      "     --------------------------------- ------ 14.8/17.7 MB 3.7 MB/s eta 0:00:01\n",
      "     ---------------------------------- ----- 15.0/17.7 MB 3.7 MB/s eta 0:00:01\n",
      "     ---------------------------------- ----- 15.2/17.7 MB 3.7 MB/s eta 0:00:01\n",
      "     ----------------------------------- ---- 15.5/17.7 MB 3.7 MB/s eta 0:00:01\n",
      "     ----------------------------------- ---- 15.6/17.7 MB 3.7 MB/s eta 0:00:01\n",
      "     ------------------------------------ --- 15.9/17.7 MB 3.7 MB/s eta 0:00:01\n",
      "     ------------------------------------ --- 16.2/17.7 MB 3.7 MB/s eta 0:00:01\n",
      "     ------------------------------------- -- 16.4/17.7 MB 3.8 MB/s eta 0:00:01\n",
      "     ------------------------------------- -- 16.7/17.7 MB 3.8 MB/s eta 0:00:01\n",
      "     -------------------------------------- - 16.9/17.7 MB 3.8 MB/s eta 0:00:01\n",
      "     -------------------------------------- - 17.1/17.7 MB 3.8 MB/s eta 0:00:01\n",
      "     ---------------------------------------  17.3/17.7 MB 5.0 MB/s eta 0:00:01\n",
      "     ---------------------------------------  17.6/17.7 MB 5.0 MB/s eta 0:00:01\n",
      "     ---------------------------------------  17.7/17.7 MB 5.0 MB/s eta 0:00:01\n",
      "     ---------------------------------------  17.7/17.7 MB 5.0 MB/s eta 0:00:01\n",
      "     ---------------------------------------- 17.7/17.7 MB 4.7 MB/s eta 0:00:00\n",
      "Installing collected packages: pulp\n",
      "Successfully installed pulp-2.8.0\n"
     ]
    },
    {
     "name": "stderr",
     "output_type": "stream",
     "text": [
      "  WARNING: The script pulptest.exe is installed in 'C:\\Users\\Lenovo\\AppData\\Local\\Packages\\PythonSoftwareFoundation.Python.3.10_qbz5n2kfra8p0\\LocalCache\\local-packages\\Python310\\Scripts' which is not on PATH.\n",
      "  Consider adding this directory to PATH or, if you prefer to suppress this warning, use --no-warn-script-location.\n",
      "\n",
      "[notice] A new release of pip is available: 23.0.1 -> 24.0\n",
      "[notice] To update, run: C:\\Users\\Lenovo\\AppData\\Local\\Microsoft\\WindowsApps\\PythonSoftwareFoundation.Python.3.10_qbz5n2kfra8p0\\python.exe -m pip install --upgrade pip\n"
     ]
    }
   ],
   "source": [
    "# https://coin-or.github.io/pulp/main/installing_pulp_at_home.html#installation\n",
    "\n",
    "!pip install pulp"
   ]
  },
  {
   "cell_type": "markdown",
   "metadata": {},
   "source": [
    "# <b>2 <span style='color:#2ae4f5'>|</span> Modeling in PuLP <a id = \"2\" > </b> "
   ]
  },
  {
   "cell_type": "markdown",
   "metadata": {},
   "source": [
    "Certainly! Here's a common modeling process in PuLP:\n",
    "\n",
    "**Step 1: Create the Optimization Model**\n",
    "- Initialize an optimization model object using PuLP's `LpProblem` function.\n",
    "\n",
    "- Provide a name for the model and specify whether it's a maximization or minimization problem.\n",
    "\n",
    "**Step 2: Define Decision Variables**\n",
    "- Identify the decision variables that represent the quantities you want to optimize.\n",
    "\n",
    "- Use PuLP's `LpVariable` function to create these variables, specifying their type (continuous or integer), lower bounds, and upper bounds if applicable.\n",
    "\n",
    "**Step 3: Define the Objective Function**\n",
    "- Determine the objective of your optimization problem (e.g., maximize profit, minimize cost).\n",
    "\n",
    "- Construct the objective function using the decision variables defined in Step 2.\n",
    "\n",
    "- Use PuLP's `lpSum` function to combine the variables with their respective coefficients.\n",
    "\n",
    "- Add the objective function defined in Step 3 to the optimization model using the `+=` operator.\n",
    "\n",
    "**Step 4: Add Constraints**\n",
    "- Identify any constraints that must be satisfied for the solution to be valid.\n",
    "\n",
    "- Formulate these constraints as mathematical expressions involving the decision variables.\n",
    "\n",
    "- Use PuLP's `+=` operator to add each constraint to the model.\n",
    "\n",
    "**Step 5: Solve the Model**\n",
    "- Choose an optimization solver (e.g., CBC, Gurobi, CPLEX) and invoke it to solve the model.\n",
    "\n",
    "- PuLP automatically interfaces with the chosen solver to find the optimal solution.\n",
    "\n",
    "- Retrieve the solution status, optimal objective value, and variable values after the solver completes."
   ]
  },
  {
   "cell_type": "code",
   "execution_count": 59,
   "metadata": {},
   "outputs": [],
   "source": [
    "from pulp import *"
   ]
  },
  {
   "cell_type": "code",
   "execution_count": 60,
   "metadata": {},
   "outputs": [
    {
     "name": "stdout",
     "output_type": "stream",
     "text": [
      "['GUROBI_CMD', 'PULP_CBC_CMD']\n"
     ]
    }
   ],
   "source": [
    "solver_list = listSolvers(onlyAvailable=True)\n",
    "print(solver_list)"
   ]
  },
  {
   "cell_type": "markdown",
   "metadata": {},
   "source": [
    "## \n",
    "<div style=\"color:white;display:fill;border-radius:8px;\n",
    "            background-color:#03112A;font-size:150%;\n",
    "            letter-spacing:1.0px;background-image: url(https://i.imgur.com/GVd0La1.png)\">\n",
    "    <p style=\"padding: 8px;color:white;\"><b><b><span style='color:#2ae4f5'>2.1 |</span></b> Farmer Problem <a id = \"3\" ></b></p>\n",
    "</div>"
   ]
  },
  {
   "cell_type": "code",
   "execution_count": 61,
   "metadata": {},
   "outputs": [],
   "source": [
    "from pulp import *"
   ]
  },
  {
   "cell_type": "code",
   "execution_count": 62,
   "metadata": {},
   "outputs": [],
   "source": [
    "# Step 1: Create the Optimization Model\n",
    "model = LpProblem(name='FarmerProblem', sense= LpMinimize)"
   ]
  },
  {
   "cell_type": "code",
   "execution_count": 63,
   "metadata": {},
   "outputs": [],
   "source": [
    "# Step 2: Define Sets and Decision Variables\n",
    "\n",
    "total_acres = 500\n",
    "products = ['wheat', 'corn','sugarbeet']\n",
    "costs = {'wheat':150, 'corn':230, 'sugarbeet':260}\n",
    "min_requirement = {'wheat':200, 'corn':240}\n",
    "min_yields = {'wheat':2.5, 'corn':3, 'sugarbeet':20}\n",
    "scenarios = {'s1':0.8, 's2':1, 's3':1.2}\n",
    "sales_price = {'wheat':170, 'corn':150, 'sugarbeet_under':36, 'sugarbeet_over':10}\n",
    "p_scenarios = {'s1':1/3, 's2':1/3, 's3':1/3}\n",
    "purchase_price = {'wheat':238, 'corn':210}\n",
    "\n",
    "x = LpVariable.dicts('X', [p for p in products], lowBound= 0, cat= LpContinuous)\n",
    "y = LpVariable.dicts('Y', [(p,s) for p in purchase_price for s in scenarios], lowBound= 0, cat= LpContinuous)\n",
    "w = LpVariable.dicts('W', [(p,s) for p in sales_price for s in scenarios], lowBound= 0, cat= LpContinuous)"
   ]
  },
  {
   "cell_type": "code",
   "execution_count": 64,
   "metadata": {},
   "outputs": [],
   "source": [
    "# Step 3: Define the Objective Function\n",
    "model += lpSum(costs[p] * x[p] for p in products) - lpSum(p_scenarios[s] * sales_price[p] * w[p,s] for p in sales_price for s in scenarios) + lpSum(p_scenarios[s] * purchase_price[p] * y[p,s] for p in purchase_price for s in scenarios) "
   ]
  },
  {
   "cell_type": "code",
   "execution_count": 65,
   "metadata": {},
   "outputs": [],
   "source": [
    "# Step 4: Add Constraints\n",
    "model += lpSum(x[i] for i in products) <= total_acres\n",
    "\n",
    "for s in scenarios:\n",
    "    for p in purchase_price:\n",
    "        model += (scenarios[s] * min_yields[p]) * x[p] + y[p, s] - w[p, s] >= min_requirement[p]\n",
    "        \n",
    "for s in scenarios:\n",
    "    model += lpSum(w[p, s] for p in ['sugarbeet_under', 'sugarbeet_over']) <= scenarios[s] * min_yields['sugarbeet'] * x['sugarbeet']\n",
    "\n",
    "for s in scenarios:    \n",
    "    model += w['sugarbeet_under', s] <= 6000"
   ]
  },
  {
   "cell_type": "code",
   "execution_count": 66,
   "metadata": {},
   "outputs": [
    {
     "data": {
      "text/plain": [
       "[W_('corn',_'s1'),\n",
       " W_('corn',_'s2'),\n",
       " W_('corn',_'s3'),\n",
       " W_('sugarbeet_over',_'s1'),\n",
       " W_('sugarbeet_over',_'s2'),\n",
       " W_('sugarbeet_over',_'s3'),\n",
       " W_('sugarbeet_under',_'s1'),\n",
       " W_('sugarbeet_under',_'s2'),\n",
       " W_('sugarbeet_under',_'s3'),\n",
       " W_('wheat',_'s1'),\n",
       " W_('wheat',_'s2'),\n",
       " W_('wheat',_'s3'),\n",
       " X_corn,\n",
       " X_sugarbeet,\n",
       " X_wheat,\n",
       " Y_('corn',_'s1'),\n",
       " Y_('corn',_'s2'),\n",
       " Y_('corn',_'s3'),\n",
       " Y_('wheat',_'s1'),\n",
       " Y_('wheat',_'s2'),\n",
       " Y_('wheat',_'s3')]"
      ]
     },
     "execution_count": 66,
     "metadata": {},
     "output_type": "execute_result"
    }
   ],
   "source": [
    "model.writeLP('FarmerProblem.lp')"
   ]
  },
  {
   "cell_type": "code",
   "execution_count": 67,
   "metadata": {},
   "outputs": [
    {
     "name": "stdout",
     "output_type": "stream",
     "text": [
      "Status: Optimal\n",
      "Optimal Solution: 108390.0\n"
     ]
    }
   ],
   "source": [
    "# Step 4: Solve the model\n",
    "model.solve(PULP_CBC_CMD(msg=False))\n",
    "print(\"Status:\", LpStatus[model.status])\n",
    "print('Optimal Solution:', -value(model.objective))\n",
    "\n",
    "z_sp = -value(model.objective)"
   ]
  },
  {
   "cell_type": "code",
   "execution_count": 68,
   "metadata": {},
   "outputs": [
    {
     "name": "stdout",
     "output_type": "stream",
     "text": [
      "W_('corn',_'s1') : 0.0\n",
      "W_('corn',_'s2') : 0.0\n",
      "W_('corn',_'s3') : 48.0\n",
      "W_('sugarbeet_over',_'s1') : 0.0\n",
      "W_('sugarbeet_over',_'s2') : 0.0\n",
      "W_('sugarbeet_over',_'s3') : 0.0\n",
      "W_('sugarbeet_under',_'s1') : 4000.0\n",
      "W_('sugarbeet_under',_'s2') : 5000.0\n",
      "W_('sugarbeet_under',_'s3') : 6000.0\n",
      "W_('wheat',_'s1') : 140.0\n",
      "W_('wheat',_'s2') : 225.0\n",
      "W_('wheat',_'s3') : 310.0\n",
      "X_corn : 80.0\n",
      "X_sugarbeet : 250.0\n",
      "X_wheat : 170.0\n",
      "Y_('corn',_'s1') : 48.0\n",
      "Y_('corn',_'s2') : 0.0\n",
      "Y_('corn',_'s3') : 0.0\n",
      "Y_('wheat',_'s1') : 0.0\n",
      "Y_('wheat',_'s2') : 0.0\n",
      "Y_('wheat',_'s3') : 0.0\n"
     ]
    }
   ],
   "source": [
    "#Optimal values of variables\n",
    "for var in model.variables():\n",
    "  print(f\"{var.name} : {var.varValue}\")"
   ]
  },
  {
   "cell_type": "code",
   "execution_count": 69,
   "metadata": {},
   "outputs": [
    {
     "name": "stdout",
     "output_type": "stream",
     "text": [
      "Scenario s1:\n",
      "Status: Optimal\n",
      "Optimal Solution: 59950.0\n",
      "------------------------------\n",
      "Scenario s2:\n",
      "Status: Optimal\n",
      "Optimal Solution: 118600.0\n",
      "------------------------------\n",
      "Scenario s3:\n",
      "Status: Optimal\n",
      "Optimal Solution: 167666.66709\n",
      "------------------------------\n",
      "expected_profit = 115405.55569666666\n",
      "EVPI: 7015.555696666663\n"
     ]
    }
   ],
   "source": [
    "# Calculate EVPI\n",
    "obj_s = []\n",
    "for s_ in scenarios:\n",
    "    \n",
    "    model_s = LpProblem('FarmerProblem', sense= LpMinimize)\n",
    "    \n",
    "    x = LpVariable.dicts('X', [p for p in products], lowBound= 0, cat= LpContinuous)\n",
    "    y = LpVariable.dicts('Y', [(p,s_) for p in purchase_price], lowBound= 0, cat= LpContinuous)\n",
    "    w = LpVariable.dicts('W', [(p,s_) for p in sales_price], lowBound= 0, cat= LpContinuous)\n",
    "    \n",
    "    model_s += lpSum(costs[p] * x[p] for p in products) - lpSum(sales_price[p] * w[p,s_] for p in sales_price) + lpSum(purchase_price[p] * y[p,s_] for p in purchase_price) \n",
    "    \n",
    "    # Step 3: Add Constraints\n",
    "    model_s += lpSum(x[i] for i in products) <= total_acres\n",
    "\n",
    "    for p in purchase_price:\n",
    "        model_s += (scenarios[s_] * min_yields[p]) * x[p] + y[p, s_] - w[p, s_] >= min_requirement[p]\n",
    "            \n",
    "    model_s += lpSum(w[p, s_] for p in ['sugarbeet_under', 'sugarbeet_over']) <= scenarios[s_] * min_yields['sugarbeet'] * x['sugarbeet']\n",
    "\n",
    "    model_s += w['sugarbeet_under', s_] <= 6000\n",
    "    \n",
    "    model_s.solve(PULP_CBC_CMD(msg= False))\n",
    "    \n",
    "    print(f\"Scenario {s_}:\")\n",
    "    print(\"Status:\", LpStatus[model_s.status])\n",
    "    print('Optimal Solution:', -value(model_s.objective))\n",
    "    print('---'*10)\n",
    "    \n",
    "    obj_s.append(-value(model_s.objective))\n",
    "    \n",
    "expected_profit = sum(obj_s)/len(obj_s)\n",
    "print(f\"expected_profit = {expected_profit}\")\n",
    "\n",
    "evpi = expected_profit - z_sp\n",
    "\n",
    "print(f\"EVPI: {evpi}\")\n"
   ]
  },
  {
   "cell_type": "code",
   "execution_count": 70,
   "metadata": {},
   "outputs": [
    {
     "name": "stdout",
     "output_type": "stream",
     "text": [
      "Status: Optimal\n",
      "Optimal Solution: 118600.0\n",
      "------------------------------\n",
      "W_corn : 0.0\n",
      "W_sugarbeet_over : 0.0\n",
      "W_sugarbeet_under : 6000.0\n",
      "W_wheat : 100.0\n",
      "X_corn : 80.0\n",
      "X_sugarbeet : 300.0\n",
      "X_wheat : 120.0\n",
      "Y_corn : 0.0\n",
      "Y_wheat : 0.0\n"
     ]
    }
   ],
   "source": [
    "# Calculate VSS\n",
    "model_ev = LpProblem('FarmerProblemEV', LpMinimize)\n",
    "\n",
    "# Step 1: Decision Variables\n",
    "x = LpVariable.dicts('X', [p for p in products], lowBound= 0, cat= LpContinuous)\n",
    "y = LpVariable.dicts('Y', [(p) for p in purchase_price], lowBound= 0, cat= LpContinuous)\n",
    "w = LpVariable.dicts('W', [(p) for p in sales_price], lowBound= 0, cat= LpContinuous)\n",
    "\n",
    "# Step 2: Define the Objective Function\n",
    "model_ev += lpSum(costs[p] * x[p] for p in products) - lpSum(sales_price[p] * w[p] for p in sales_price) + lpSum(purchase_price[p] * y[p] for p in purchase_price) \n",
    "\n",
    "# Step 3: Add Constraints\n",
    "model_ev += lpSum(x[i] for i in products) <= total_acres\n",
    "\n",
    "for p in purchase_price:\n",
    "    model_ev += (min_yields[p] * x[p]) + y[p] - w[p] >= min_requirement[p]\n",
    "\n",
    "model_ev += lpSum(w[p] for p in ['sugarbeet_under', 'sugarbeet_over']) <= min_yields['sugarbeet'] * x['sugarbeet']\n",
    "\n",
    "model_ev += w['sugarbeet_under'] <= 6000\n",
    "\n",
    "model_ev.solve(PULP_CBC_CMD(msg= False))\n",
    "\n",
    "print(\"Status:\", LpStatus[model_ev.status])\n",
    "print('Optimal Solution:', -value(model_ev.objective))\n",
    "print('---'*10)\n",
    "\n",
    "for var in model_ev.variables():\n",
    "  print(f\"{var.name} : {var.varValue}\")"
   ]
  },
  {
   "cell_type": "code",
   "execution_count": 71,
   "metadata": {},
   "outputs": [],
   "source": [
    "for var1 in model.variables():\n",
    "    for var2 in model_ev.variables():\n",
    "        if var1.name == var2.name:\n",
    "            var1.setInitialValue(var2.varValue)\n",
    "            var1.fixValue()"
   ]
  },
  {
   "cell_type": "code",
   "execution_count": 73,
   "metadata": {},
   "outputs": [
    {
     "name": "stdout",
     "output_type": "stream",
     "text": [
      "Status: Optimal\n",
      "Optimal Solution: 107240.00000000006\n",
      "1149.9999999999418\n"
     ]
    }
   ],
   "source": [
    "# Step 4: Solve the model\n",
    "model.solve(PULP_CBC_CMD(msg=False))\n",
    "print(\"Status:\", LpStatus[model.status])\n",
    "print('Optimal Solution:', -value(model.objective))\n",
    "\n",
    "z_ev = -value(model.objective)\n",
    "\n",
    "vss = z_sp - z_ev\n",
    "\n",
    "print(vss)"
   ]
  },
  {
   "cell_type": "markdown",
   "metadata": {},
   "source": [
    "## \n",
    "<div style=\"color:white;display:fill;border-radius:8px;\n",
    "            background-color:#03112A;font-size:150%;\n",
    "            letter-spacing:1.0px;background-image: url(https://i.imgur.com/GVd0La1.png)\">\n",
    "    <p style=\"padding: 8px;color:white;\"><b><b><span style='color:#2ae4f5'>2.2 |</span></b> Financial Planning <a id = \"4\" ></b></p>\n",
    "</div>"
   ]
  },
  {
   "cell_type": "code",
   "execution_count": 74,
   "metadata": {},
   "outputs": [],
   "source": [
    "from pulp import *"
   ]
  },
  {
   "cell_type": "code",
   "execution_count": 86,
   "metadata": {},
   "outputs": [],
   "source": [
    "# Step 1: Create the Optimization Model\n",
    "model = LpProblem(name=\"FinancialPlanningAndControl\", sense= LpMaximize)"
   ]
  },
  {
   "cell_type": "code",
   "execution_count": 87,
   "metadata": {},
   "outputs": [],
   "source": [
    "# Step 2: Define Sets and Decision Variables\n",
    "scenarios = [1, 2]\n",
    "stage = [1, 2, 3]\n",
    "invest = [1, 2]\n",
    "pScenario = [0.5, 0.5, 0.5]\n",
    "ReturnOfStock = [1.25, 1.06]\n",
    "ReturnOfBond = [1.14, 1.12]\n",
    "goal = 80000\n",
    "InitialInvest = 55000\n",
    "ShortagePenalty = 4\n",
    "SurplusReward = 1"
   ]
  },
  {
   "cell_type": "code",
   "execution_count": 88,
   "metadata": {},
   "outputs": [],
   "source": [
    "x1 = LpVariable.dicts(\"x1\", [i for i in invest], lowBound=0, cat=\"continuous\")\n",
    "x2 = LpVariable.dicts(\"x2\", [(i, s1) for i in invest for s1 in scenarios], lowBound=0, cat=\"continuous\")\n",
    "x3 = LpVariable.dicts(\"x3\", [(i, s1, s2) for i in invest for s1 in scenarios for s2 in scenarios], lowBound=0, cat=\"continuous\")\n",
    "y = LpVariable.dicts(\"y\", [(s1, s2, s3) for s1 in scenarios for s2 in scenarios for s3 in scenarios], lowBound=0, cat=\"continuous\")\n",
    "w = LpVariable.dicts(\"w\", [(s1, s2, s3) for s1 in scenarios for s2 in scenarios for s3 in scenarios], lowBound=0, cat=\"continuous\")"
   ]
  },
  {
   "cell_type": "code",
   "execution_count": 89,
   "metadata": {},
   "outputs": [],
   "source": [
    "# Step 2: Define the Objective Function\n",
    "model += lpSum(pScenario[s1 - 1] * pScenario[s2 - 1] * pScenario[s3 - 1] * SurplusReward * y[(s1, s2, s3)] for s1 in scenarios for s2 in scenarios for s3 in scenarios) - \\\n",
    "         lpSum(pScenario[s1 - 1] * pScenario[s2 - 1] * pScenario[s3 - 1] * ShortagePenalty * w[(s1, s2, s3)] for s1 in scenarios for s2 in scenarios for s3 in scenarios)"
   ]
  },
  {
   "cell_type": "code",
   "execution_count": 90,
   "metadata": {},
   "outputs": [],
   "source": [
    "# Step 3: Add Constraints\n",
    "model += lpSum(x1[i] for i in invest) == InitialInvest\n",
    "\n",
    "for s in scenarios:\n",
    "    model += ReturnOfStock[s - 1] * x1[1] + ReturnOfBond[s - 1] * x1[2] == x2[1, s] + x2[2, s]\n",
    "\n",
    "for s1 in scenarios:\n",
    "    for s2 in scenarios:\n",
    "        model += ReturnOfStock[s2 - 1] * x2[1, s1] + ReturnOfBond[s2 - 1] * x2[2, s1] == x3[1, s1, s2] + x3[2, s1, s2]\n",
    "\n",
    "for s1 in scenarios:\n",
    "    for s2 in scenarios:\n",
    "        for s3 in scenarios:\n",
    "            model += ReturnOfStock[s3 - 1] * x3[1, s1, s2] + ReturnOfBond[s3 - 1] * x3[2, s1, s2] == goal + y[s1, s2, s3] - w[s1, s2, s3]"
   ]
  },
  {
   "cell_type": "code",
   "execution_count": 91,
   "metadata": {},
   "outputs": [
    {
     "data": {
      "text/plain": [
       "[w_(1,_1,_1),\n",
       " w_(1,_1,_2),\n",
       " w_(1,_2,_1),\n",
       " w_(1,_2,_2),\n",
       " w_(2,_1,_1),\n",
       " w_(2,_1,_2),\n",
       " w_(2,_2,_1),\n",
       " w_(2,_2,_2),\n",
       " x1_1,\n",
       " x1_2,\n",
       " x2_(1,_1),\n",
       " x2_(1,_2),\n",
       " x2_(2,_1),\n",
       " x2_(2,_2),\n",
       " x3_(1,_1,_1),\n",
       " x3_(1,_1,_2),\n",
       " x3_(1,_2,_1),\n",
       " x3_(1,_2,_2),\n",
       " x3_(2,_1,_1),\n",
       " x3_(2,_1,_2),\n",
       " x3_(2,_2,_1),\n",
       " x3_(2,_2,_2),\n",
       " y_(1,_1,_1),\n",
       " y_(1,_1,_2),\n",
       " y_(1,_2,_1),\n",
       " y_(1,_2,_2),\n",
       " y_(2,_1,_1),\n",
       " y_(2,_1,_2),\n",
       " y_(2,_2,_1),\n",
       " y_(2,_2,_2)]"
      ]
     },
     "execution_count": 91,
     "metadata": {},
     "output_type": "execute_result"
    }
   ],
   "source": [
    "model.writeLP('FinancialPlanning.lp')"
   ]
  },
  {
   "cell_type": "code",
   "execution_count": 82,
   "metadata": {},
   "outputs": [
    {
     "name": "stdout",
     "output_type": "stream",
     "text": [
      "Status: Optimal\n",
      "Optimal Solution: 1514.0846500000007\n"
     ]
    }
   ],
   "source": [
    "model.solve(PULP_CBC_CMD(msg=False))\n",
    "\n",
    "print(\"Status:\", LpStatus[model.status])\n",
    "print('Optimal Solution:', -value(model.objective))"
   ]
  },
  {
   "cell_type": "code",
   "execution_count": 83,
   "metadata": {},
   "outputs": [
    {
     "name": "stdout",
     "output_type": "stream",
     "text": [
      "w_(1,_1,_1) 0.0\n",
      "w_(1,_1,_2) 0.0\n",
      "w_(1,_2,_1) 0.0\n",
      "w_(1,_2,_2) 0.0\n",
      "w_(2,_1,_1) 0.0\n",
      "w_(2,_1,_2) 0.0\n",
      "w_(2,_2,_1) 0.0\n",
      "w_(2,_2,_2) 12160.0\n",
      "x1_1 41479.272\n",
      "x1_2 13520.728\n",
      "x2_(1,_1) 65094.582\n",
      "x2_(1,_2) 36743.215\n",
      "x2_(2,_1) 2168.138\n",
      "x2_(2,_2) 22368.029\n",
      "x3_(1,_1,_1) 83839.905\n",
      "x3_(1,_1,_2) 0.0\n",
      "x3_(1,_2,_1) 0.0\n",
      "x3_(1,_2,_2) 64000.0\n",
      "x3_(2,_1,_1) 0.0\n",
      "x3_(2,_1,_2) 71428.571\n",
      "x3_(2,_2,_1) 71428.571\n",
      "x3_(2,_2,_2) 0.0\n",
      "y_(1,_1,_1) 24799.881\n",
      "y_(1,_1,_2) 8870.299\n",
      "y_(1,_2,_1) 1428.5714\n",
      "y_(1,_2,_2) 0.0\n",
      "y_(2,_1,_1) 1428.5714\n",
      "y_(2,_1,_2) 0.0\n",
      "y_(2,_2,_1) -6.2359077e-12\n",
      "y_(2,_2,_2) 0.0\n"
     ]
    }
   ],
   "source": [
    "# Shadow Prices\n",
    "for var in model.variables():\n",
    "    print(var, var.varValue)"
   ]
  },
  {
   "cell_type": "code",
   "execution_count": 85,
   "metadata": {},
   "outputs": [
    {
     "name": "stdout",
     "output_type": "stream",
     "text": [
      "_C1 x1_1 + x1_2 = 55000 2.9444928\n",
      "_C2 1.25*x1_1 + 1.14*x1_2 - x2_(1,_1) - x2_(2,_1) = -0.0 -0.922075\n",
      "_C3 1.06*x1_1 + 1.12*x1_2 - x2_(1,_2) - x2_(2,_2) = -0.0 -1.6904708\n",
      "_C4 1.25*x2_(1,_1) + 1.14*x2_(2,_1) - x3_(1,_1,_1) - x3_(2,_1,_1) = -0.0 -0.28875\n",
      "_C5 1.06*x2_(1,_1) + 1.12*x2_(2,_1) - x3_(1,_1,_2) - x3_(2,_1,_2) = -0.0 -0.529375\n",
      "_C6 1.25*x2_(1,_2) + 1.14*x2_(2,_2) - x3_(1,_2,_1) - x3_(2,_2,_1) = -0.0 -0.529375\n",
      "_C7 1.06*x2_(1,_2) + 1.12*x2_(2,_2) - x3_(1,_2,_2) - x3_(2,_2,_2) = -0.0 -0.97052083\n",
      "_C8 w_(1,_1,_1) + 1.25*x3_(1,_1,_1) + 1.14*x3_(2,_1,_1) - y_(1,_1,_1) = 80000.0 -0.125\n",
      "_C9 w_(1,_1,_2) + 1.06*x3_(1,_1,_1) + 1.12*x3_(2,_1,_1) - y_(1,_1,_2) = 80000.0 -0.125\n",
      "_C10 w_(1,_2,_1) + 1.25*x3_(1,_1,_2) + 1.14*x3_(2,_1,_2) - y_(1,_2,_1) = 80000.0 -0.125\n",
      "_C11 w_(1,_2,_2) + 1.06*x3_(1,_1,_2) + 1.12*x3_(2,_1,_2) - y_(1,_2,_2) = 80000.0 -0.34542411\n",
      "_C12 w_(2,_1,_1) + 1.25*x3_(1,_2,_1) + 1.14*x3_(2,_2,_1) - y_(2,_1,_1) = 80000.0 -0.125\n",
      "_C13 w_(2,_1,_2) + 1.06*x3_(1,_2,_1) + 1.12*x3_(2,_2,_1) - y_(2,_1,_2) = 80000.0 -0.34542411\n",
      "_C14 w_(2,_2,_1) + 1.25*x3_(1,_2,_2) + 1.14*x3_(2,_2,_2) - y_(2,_2,_1) = 80000.0 -0.35241667\n",
      "_C15 w_(2,_2,_2) + 1.06*x3_(1,_2,_2) + 1.12*x3_(2,_2,_2) - y_(2,_2,_2) = 80000.0 -0.5\n"
     ]
    }
   ],
   "source": [
    "# Shadow prices\n",
    "for name, c in model.constraints.items():\n",
    "    print(name, c, c.pi)"
   ]
  },
  {
   "cell_type": "code",
   "execution_count": null,
   "metadata": {},
   "outputs": [],
   "source": []
  }
 ],
 "metadata": {
  "kernelspec": {
   "display_name": ".venv",
   "language": "python",
   "name": "python3"
  },
  "language_info": {
   "codemirror_mode": {
    "name": "ipython",
    "version": 3
   },
   "file_extension": ".py",
   "mimetype": "text/x-python",
   "name": "python",
   "nbconvert_exporter": "python",
   "pygments_lexer": "ipython3",
   "version": "3.12.3"
  }
 },
 "nbformat": 4,
 "nbformat_minor": 2
}
